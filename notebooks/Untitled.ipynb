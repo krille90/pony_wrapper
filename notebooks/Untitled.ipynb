{
 "cells": [
  {
   "cell_type": "code",
   "execution_count": 1,
   "id": "8ec0607f",
   "metadata": {},
   "outputs": [],
   "source": [
    "import os\n",
    "\n",
    "os.chdir('..')"
   ]
  },
  {
   "cell_type": "code",
   "execution_count": 2,
   "id": "75a21aec",
   "metadata": {},
   "outputs": [],
   "source": [
    "from pony_wrapper import *"
   ]
  },
  {
   "cell_type": "code",
   "execution_count": 3,
   "id": "55507bf6",
   "metadata": {},
   "outputs": [],
   "source": [
    "class Asset(Entity):\n",
    "    name = PrimaryKey(str)\n",
    "    altname = Required(str)\n",
    "    base_pairs = Set('Pair', reverse='base')\n",
    "    quote_pairs = Set('Pair', reverse='quote')\n",
    "    \n",
    "class Pair(Entity):\n",
    "    base = Required(Asset, reverse='base_pairs')\n",
    "    quote = Required(Asset, reverse='quote_pairs')\n",
    "    ordermin = Required(float)\n",
    "    PrimaryKey(base, quote)"
   ]
  },
  {
   "cell_type": "code",
   "execution_count": 4,
   "id": "1387858f",
   "metadata": {},
   "outputs": [],
   "source": [
    "create_entities()\n",
    "bind_database('sqlite', ':memory:', rebind=True)"
   ]
  },
  {
   "cell_type": "code",
   "execution_count": 11,
   "id": "6d543e3e",
   "metadata": {
    "collapsed": true
   },
   "outputs": [
    {
     "name": "stdout",
     "output_type": "stream",
     "text": [
      "('Pair',)\n",
      "base_pairs <class 'pony_wrapper.core.PairSet'>\n",
      "('Pair',)\n",
      "quote_pairs <class 'pony_wrapper.core.PairSet'>\n",
      "('Pair',)\n",
      "base_pairs <class 'pony_wrapper.core.PairSet'>\n",
      "('Pair',)\n",
      "quote_pairs <class 'pony_wrapper.core.PairSet'>\n",
      "('Pair',)\n",
      "base_pairs <class 'pony_wrapper.core.PairSet'>\n",
      "('Pair',)\n",
      "quote_pairs <class 'pony_wrapper.core.PairSet'>\n",
      "('Pair',)\n",
      "base_pairs <class 'pony_wrapper.core.PairSet'>\n",
      "('Pair',)\n",
      "quote_pairs <class 'pony_wrapper.core.PairSet'>\n"
     ]
    },
    {
     "data": {
      "text/plain": [
       "Pair<Asset<'ADA'>,Asset<'EUR'>>"
      ]
     },
     "execution_count": 11,
     "metadata": {},
     "output_type": "execute_result"
    }
   ],
   "source": [
    "Asset(name='EUR', altname='ZEUR').update(insert=True)\n",
    "# Asset(name='ETH', altname='XETH').update(insert=True)\n",
    "Asset(name='ADA', altname='ADA').update(insert=True)\n",
    "Pair(base='ADA', quote='EUR', ordermin=0.0).update(insert=True)"
   ]
  },
  {
   "cell_type": "code",
   "execution_count": 15,
   "id": "14ee0a04",
   "metadata": {},
   "outputs": [
    {
     "data": {
      "text/plain": [
       "(pony.orm.core.SetInstance, pony.orm.core.PairSetMixin)"
      ]
     },
     "execution_count": 15,
     "metadata": {},
     "output_type": "execute_result"
    }
   ],
   "source": [
    "type(db.Asset['EUR'].quote_pairs).__bases__"
   ]
  },
  {
   "cell_type": "code",
   "execution_count": 8,
   "id": "3caad125",
   "metadata": {},
   "outputs": [
    {
     "data": {
      "text/plain": [
       "True"
      ]
     },
     "execution_count": 8,
     "metadata": {},
     "output_type": "execute_result"
    }
   ],
   "source": [
    "type(db.Asset['EUR'].base_pairs) == type(db.Asset['EUR'].quote_pairs)"
   ]
  },
  {
   "cell_type": "code",
   "execution_count": 19,
   "id": "22bb3ec2",
   "metadata": {},
   "outputs": [
    {
     "data": {
      "text/plain": [
       "[Asset['EUR']]"
      ]
     },
     "execution_count": 19,
     "metadata": {},
     "output_type": "execute_result"
    }
   ],
   "source": [
    "select(a for a in Asset if a.name.startswith('E'))[:]"
   ]
  },
  {
   "cell_type": "code",
   "execution_count": 20,
   "id": "f63f2e23",
   "metadata": {},
   "outputs": [],
   "source": [
    "a = {'i': 0}"
   ]
  },
  {
   "cell_type": "code",
   "execution_count": 22,
   "id": "736c4050",
   "metadata": {},
   "outputs": [],
   "source": [
    "import pandas as pd"
   ]
  },
  {
   "cell_type": "code",
   "execution_count": 24,
   "id": "13a09642",
   "metadata": {},
   "outputs": [],
   "source": [
    "df = pd.DataFrame()"
   ]
  },
  {
   "cell_type": "code",
   "execution_count": 30,
   "id": "9dfed999",
   "metadata": {},
   "outputs": [],
   "source": [
    "df = df.append({'i': 0}, ignore_index=True)"
   ]
  },
  {
   "cell_type": "code",
   "execution_count": 31,
   "id": "0301e6a9",
   "metadata": {},
   "outputs": [
    {
     "name": "stdout",
     "output_type": "stream",
     "text": [
      "0\n",
      "{'i': 0.0}\n"
     ]
    }
   ],
   "source": [
    "for i, row in df.iterrows():\n",
    "    print(i)\n",
    "    print(row.to_dict())"
   ]
  },
  {
   "cell_type": "code",
   "execution_count": null,
   "id": "ea84f243",
   "metadata": {},
   "outputs": [],
   "source": []
  }
 ],
 "metadata": {
  "kernelspec": {
   "display_name": "Python 3",
   "language": "python",
   "name": "python3"
  },
  "language_info": {
   "codemirror_mode": {
    "name": "ipython",
    "version": 3
   },
   "file_extension": ".py",
   "mimetype": "text/x-python",
   "name": "python",
   "nbconvert_exporter": "python",
   "pygments_lexer": "ipython3",
   "version": "3.8.6"
  }
 },
 "nbformat": 4,
 "nbformat_minor": 5
}
